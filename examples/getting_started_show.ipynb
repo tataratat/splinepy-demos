{
 "cells": [
  {
   "cell_type": "markdown",
   "id": "64e09323",
   "metadata": {},
   "source": [
    "# Splinepy\n",
    "## The Library\n",
    "### Splinepy\n",
    "> Python N-dimensional Bezier, Rational Bezier, BSpline and NURBS library with C++ backend \n",
    "It provides all low-level functionality for splines, including\n",
    " - import / export for various formats, such as Irit, XML, iges, JSON and MFEM\n",
    " - Order Elevation\n",
    " - Evaluation\n",
    " - Knot Insertion (NURBS, BSplines)\n",
    " - Derivatives\n",
    " - Compositions of Bezier patches\n",
    " - Multiplication and Addition of Bezier-Extracted elements\n",
    " - Multipatch fields and boundary identification for pre-processing\n",
    " \n",
    "Splinepy depends on `BSplineLib`, `napf`, `Bezman`. Here, `BSplineLib` is used for NURBS and BSplines, `Bezman` handles all things Bezier. Further `scipy` is regarded as an optional dependency and is sometimes used if available for sparse matrices.\n",
    "\n",
    "### Other libraries\n",
    "If you are interested in exploring the C++ backend, we refer to:\n",
    "- [BSplinelib](https://github.com/tataratat/bsplinelib)\n",
    "- [BezMan](https://github.com/tataratat/bezman)\n",
    "- [napf](https://github.com/tataratat/napf)\n",
    "\n",
    "## Installation\n",
    "```bash\n",
    "pip install splinepy[all]\n",
    "pip install jupyter # for notebook\n",
    "```"
   ]
  },
  {
   "cell_type": "markdown",
   "id": "51cda7e2",
   "metadata": {},
   "source": [
    "## Getting Started\n",
    "### Basics\n"
   ]
  },
  {
   "cell_type": "code",
   "execution_count": null,
   "id": "sticky-launch",
   "metadata": {},
   "outputs": [],
   "source": [
    "import splinepy as sp\n",
    "import gustaf as gus\n",
    "import numpy as np\n",
    "import vedo\n",
    "\n",
    "# comment this line to visualize within the notebook (limited functionalities)\n",
    "vedo.settings.default_backend = \"vtk\""
   ]
  },
  {
   "cell_type": "markdown",
   "id": "1d515b81",
   "metadata": {},
   "source": [
    "All Spline-Types are constructed using (positional or) the following keyword arguments:\n",
    "- `degrees` (list)\n",
    "- `control_points` (list[list] oder `numpy` type)\n",
    "- `knot_vectors` (list[list])\n",
    "- `weights`(list of `numpy`-types)\n",
    "\n",
    "The keywords are used where applicable, i.e.:\n",
    "\n",
    "| | NURBS | BSpline | Bezier | Rational Bezier |\n",
    "| -: | :-: | :-: | :-: | :-: |\n",
    "| `degrees` | X | X | X | X |\n",
    "| `control_points` | X | X | X | X |\n",
    "| `knot_vectors` | X | X | - | - |\n",
    "| `weights` | X | - | - | X |\n",
    "\n",
    "Let's create some splines:"
   ]
  },
  {
   "cell_type": "code",
   "execution_count": null,
   "id": "expressed-toilet",
   "metadata": {},
   "outputs": [],
   "source": [
    "# Bezier types\n",
    "bezier_line = sp.Bezier(degrees=[1], control_points=[[0.0, 0.0], [2, 1]])\n",
    "bezier_surface = sp.Bezier(\n",
    "    degrees=[1, 1], control_points=[[0.0, 1.0], [2, 3], [0, 2], [2, 4]]\n",
    ")\n",
    "\n",
    "# BSpline\n",
    "bspline_cube = sp.BSpline(\n",
    "    degrees=[1, 1, 1],\n",
    "    control_points=[\n",
    "        [0, 0, 0],\n",
    "        [1, 0, 0],\n",
    "        [0, 1, 0],\n",
    "        [1, 1, 0],\n",
    "        [0, 0, 1],\n",
    "        [1, 0, 1],\n",
    "        [0, 1, 1],\n",
    "        [1, 1, 1],\n",
    "    ],\n",
    "    knot_vectors=[[0, 0, 1, 1], [0, 0, 1, 1], [0, 0, 1, 1]],\n",
    ")\n",
    "\n",
    "# NURBs\n",
    "nurbs_line = sp.NURBS(\n",
    "    degrees=[2],\n",
    "    knot_vectors=[[0, 0, 0, 0.5, 1, 1, 1]],\n",
    "    control_points=[[0.0, 1.0], [2, 3], [0, 2], [2, 4]],\n",
    "    weights=[1, 0.5, 0.8, 1],\n",
    ")"
   ]
  },
  {
   "cell_type": "markdown",
   "id": "8c6e04fe",
   "metadata": {},
   "source": [
    "The transformation into a type with more information is also possible using properties\n",
    "| FROM \\ TO| NURBS | BSpline | Bezier | Rational Bezier |\n",
    "| -: | :-: | :-: | :-: | :-: |\n",
    "| NURBS | X | X | X | X |\n",
    "| BSpline | - | X | X | - |\n",
    "| Bezier | - | - | X | - |\n",
    "| Rational Bezier | - | - | X | X |\n",
    "\n",
    "using"
   ]
  },
  {
   "cell_type": "code",
   "execution_count": null,
   "id": "47e4dd2c",
   "metadata": {},
   "outputs": [],
   "source": [
    "# Change Type\n",
    "nurbs_from_bezier_line = bezier_line.nurbs\n",
    "\n",
    "# Visualize\n",
    "gus.show(\n",
    "    [f\"{nurbs_from_bezier_line.whatami}\", nurbs_from_bezier_line],\n",
    "    [f\"{bezier_line.whatami}\", bezier_line]\n",
    ")"
   ]
  },
  {
   "cell_type": "markdown",
   "id": "cbd162e3",
   "metadata": {},
   "source": [
    "### Construction\n",
    "Starting from a spline, it can be used as a basis for construction using either revolutions or extrusions.\n",
    "\n",
    "#### Extrusion"
   ]
  },
  {
   "cell_type": "code",
   "execution_count": null,
   "id": "af0806d9",
   "metadata": {},
   "outputs": [],
   "source": [
    "# Extrude along the vector [1.,0]\n",
    "extruded_surface = bezier_line.create.extruded(extrusion_vector=[1., 0])\n",
    "\n",
    "# Show the result\n",
    "gus.show(\n",
    "    [\"Original\", bezier_line],\n",
    "    [\"Extruded along [1., 0] vector\", extruded_surface],\n",
    ")"
   ]
  },
  {
   "cell_type": "markdown",
   "id": "d25a509d",
   "metadata": {},
   "source": [
    "#### Revolution"
   ]
  },
  {
   "cell_type": "code",
   "execution_count": null,
   "id": "3af12c55",
   "metadata": {},
   "outputs": [],
   "source": [
    "# Revolve along arbitrary axis \n",
    "revolved_surface = extruded_surface.create.revolved(\n",
    "    axis=[1,0,0],\n",
    "    center=[0,-1,0],\n",
    "    angle=85,\n",
    "    degree=True\n",
    ")\n",
    "gus.show(\n",
    "    [\"Original\", bezier_line],\n",
    "    [\"Extruded along [1., 0] vector\", extruded_surface],\n",
    "    [\"Then, revoled\", revolved_surface],\n",
    ")"
   ]
  },
  {
   "cell_type": "markdown",
   "id": "22fe088c",
   "metadata": {},
   "source": [
    "## Show options\n",
    "In combination with splines, the `visualize` module has a list of options to modify the look of a given spline. The following list shows the most essential operations:\n",
    "\n",
    "| Option | Function |\n",
    "| :----: | :------- |\n",
    "| `control_points` | Renders the control points in addition to the spline itself (default: `True`) |\n",
    "| `control_mesh` | Shows the connectivity of control points in the physical domain (default: `True`) |\n",
    "| `knots`| Plot the knot lines within the physical domain (default: `True`) |\n",
    "| `c` | Color of the spline | \n",
    "| `control_points_c` | Color of control points |\n",
    "| `control_mesh_c` |  Color of the control mesh |\n",
    "| `resolutions` | Resolution of the spline as a sampling rate |\n",
    "| ... | ... |\n",
    "\n",
    "It is further possible to plot fields and functions and to adjust display options. For more information, please check out the show_options menu.\n"
   ]
  },
  {
   "cell_type": "code",
   "execution_count": null,
   "id": "540fe407",
   "metadata": {},
   "outputs": [],
   "source": [
    "# Modify show options\n",
    "revolved_surface.show_options[\"c\"] = \"red\"\n",
    "revolved_surface.show_options[\"knots\"] = True\n",
    "revolved_surface.show_options[\"control_mesh\"] = False\n",
    "revolved_surface.show_options[\"control_point_c\"] = \"green\"\n",
    "revolved_surface.show_options[\"control_point_ids\"] = True\n",
    "\n",
    "revolved_surface.show()"
   ]
  },
  {
   "cell_type": "markdown",
   "id": "1b15ce28",
   "metadata": {},
   "source": [
    "### Manipulation\n",
    "Basic spline refinement strategies are avaible, to modify the parametrization. These include knot insertion and degree elevation, as well as knot removal and degree reduction, where applicable."
   ]
  },
  {
   "cell_type": "markdown",
   "id": "def8c1af",
   "metadata": {},
   "source": [
    "For this example, we will start with an arc created with `helpme.create` module."
   ]
  },
  {
   "cell_type": "code",
   "execution_count": null,
   "id": "15338152",
   "metadata": {},
   "outputs": [],
   "source": [
    "curve = sp.helpme.create.arc(radius=4, start_angle=-120, angle=90)\n",
    "surface = curve.create.revolved(center=curve.control_points[0] + [-5, 1], angle=30).nurbs\n",
    "surface.show()"
   ]
  },
  {
   "cell_type": "markdown",
   "id": "f345c48f",
   "metadata": {},
   "source": [
    "#### Degree elevation"
   ]
  },
  {
   "cell_type": "code",
   "execution_count": null,
   "id": "b6cd9609",
   "metadata": {},
   "outputs": [],
   "source": [
    "# Prepare copies for comparison\n",
    "elevated_curve = curve.copy()\n",
    "elevated_surface = surface.copy()\n",
    "\n",
    "# Elevate the degree along one specific parametric dimension\n",
    "elevated_curve.elevate_degrees([0])\n",
    "# In fact, you can specify multiple degrees at ones\n",
    "elevated_surface.elevate_degrees([0, 0, 1])\n",
    "\n",
    "gus.show(\n",
    "    [f\"Original curve. Degrees: {curve.degrees}\", curve],\n",
    "    [f\"Degree elevated curve. Degrees: {elevated_curve.degrees}\", elevated_curve],\n",
    "    [f\"Original surface. Degrees: {surface.degrees}\", surface],\n",
    "    [f\"Degree elevated surface. Degrees: {elevated_surface.degrees}\", elevated_surface],\n",
    ")"
   ]
  },
  {
   "cell_type": "markdown",
   "id": "30095027",
   "metadata": {},
   "source": [
    "#### Knot insertion\n"
   ]
  },
  {
   "cell_type": "code",
   "execution_count": null,
   "id": "0eed0bd2",
   "metadata": {},
   "outputs": [],
   "source": [
    "knot_refined_surface = surface.copy()\n",
    "\n",
    "# insert knots - similar to degree elevation, specify parametric dimension and the location of knots\n",
    "knot_refined_surface.insert_knots(0, [0.4])\n",
    "knot_refined_surface.insert_knots(1, [0.3, 0.7])\n",
    "\n",
    "gus.show(\n",
    "    [\"Original\", surface],\n",
    "    [\"After knot insertion\", knot_refined_surface],\n",
    "    [\"Parametric space view\", knot_refined_surface.create.parametric_view()],\n",
    ")"
   ]
  },
  {
   "cell_type": "markdown",
   "id": "67118761",
   "metadata": {},
   "source": [
    "#### Knot Removal\n",
    "This operation is only available for BSplines and NURBS\n"
   ]
  },
  {
   "cell_type": "code",
   "execution_count": null,
   "id": "72daf05a",
   "metadata": {},
   "outputs": [],
   "source": [
    "knot_removed = knot_refined_surface.copy()\n",
    "knot_removed.remove_knots(0, [0.4])\n",
    "\n",
    "gus.show(\n",
    "    [\"Original\", knot_refined_surface],\n",
    "    [\"After knot removal\", knot_removed],\n",
    ")"
   ]
  },
  {
   "cell_type": "markdown",
   "id": "bd503301",
   "metadata": {},
   "source": [
    "#### Degree reduction\n",
    "This operation is only available for BSplines and NURBS\n"
   ]
  },
  {
   "cell_type": "code",
   "execution_count": null,
   "id": "a9bc79dc",
   "metadata": {},
   "outputs": [],
   "source": [
    "degree_reduced = elevated_surface.copy()\n",
    "degree_reduced.reduce_degrees([0])\n",
    "\n",
    "gus.show(\n",
    "    [\"Original\", elevated_surface],\n",
    "    [\"After degree reduction\", degree_reduced], \n",
    ")"
   ]
  },
  {
   "cell_type": "markdown",
   "id": "c20cb75d",
   "metadata": {},
   "source": [
    "## Evaluation\n",
    "Evaluating splines at specific parametric locations."
   ]
  },
  {
   "cell_type": "code",
   "execution_count": null,
   "id": "6e90f125",
   "metadata": {},
   "outputs": [],
   "source": [
    "# Evaluate surface\n",
    "parametric_queries = [\n",
    "    [0.1, 0.2],\n",
    "    [0.082, 0.4],\n",
    "    [0.5, 0.5],\n",
    "    [0.9, 0.8],\n",
    "]\n",
    "evaluated = surface.evaluate(parametric_queries)\n",
    "\n",
    "# prepare parametric view objects\n",
    "parametric_view = surface.create.parametric_view()\n",
    "parametric_view.show_options[\"alpha\"] = 0.7\n",
    "query_vertices = gus.Vertices(parametric_queries)\n",
    "query_vertices.show_options[\"r\"] = 5\n",
    "query_vertices.show_options[\"c\"] = \"red\"\n",
    "query_vertices.show_options[\"vertex_ids\"] = True\n",
    "\n",
    "# physical view objects\n",
    "surface.show_options[\"alpha\"] = 0.7\n",
    "surface.show_options[\"control_points\"] = False\n",
    "physical_vertices = gus.Vertices(evaluated)\n",
    "physical_vertices.show_options[\"r\"] = 5\n",
    "physical_vertices.show_options[\"c\"] = \"red\"\n",
    "physical_vertices.show_options[\"vertex_ids\"] = True\n",
    "\n",
    "gus.show(\n",
    "    [\"Parametric View\", parametric_view, query_vertices],\n",
    "    [\"Physical View\", surface, physical_vertices],\n",
    ")"
   ]
  },
  {
   "cell_type": "markdown",
   "id": "659f69a7",
   "metadata": {},
   "source": [
    "## Basis Functions\n",
    "In order to access basis functions (e.g. for iga-type applications or fitting procedures), use `basis`, `support` or `basis_and_support`:"
   ]
  },
  {
   "cell_type": "code",
   "execution_count": null,
   "id": "b7319cf7",
   "metadata": {},
   "outputs": [],
   "source": [
    "queries = np.random.rand(10,1)\n",
    "basis = nurbs_line.basis(queries)\n",
    "support = nurbs_line.support(queries)\n",
    "basis_, support_ = nurbs_line.basis_and_support(queries)\n",
    "assert np.all(basis == basis_)\n",
    "assert np.all(support == support_)"
   ]
  },
  {
   "cell_type": "markdown",
   "id": "4ab41cad",
   "metadata": {},
   "source": [
    "You can also use these functions to fill a matrix representing the basis functions at specific positions"
   ]
  },
  {
   "cell_type": "code",
   "execution_count": null,
   "id": "56c2b90d",
   "metadata": {},
   "outputs": [],
   "source": [
    "# Create a matrix with basis function values\n",
    "matrix = np.zeros((queries.shape[0], nurbs_line.control_points.shape[0]))\n",
    "np.put_along_axis(matrix, support, basis, axis=1)\n",
    "# Use matrix to compute evaluations\n",
    "points = matrix @ nurbs_line.control_points\n",
    "# Here it makes sense to use sparse matrices to save memory and accelerate matrix multiplication\n",
    "assert np.allclose(points, nurbs_line.evaluate(queries))"
   ]
  },
  {
   "cell_type": "markdown",
   "id": "b7f8689e",
   "metadata": {},
   "source": [
    "Although it is not possible (yet) to plot basis functions directly, you can do so by using a helper function:"
   ]
  },
  {
   "cell_type": "code",
   "execution_count": null,
   "id": "2c8f9ffd",
   "metadata": {},
   "outputs": [],
   "source": [
    "def plot_basis_functions(spline, sample_rate=100, return_fig=False):\n",
    "    \"\"\"\n",
    "    Plot basis functions using vedo plot.\n",
    "    \"\"\"\n",
    "    from vedo.pyplot import plot \n",
    "\n",
    "    if spline.para_dim != 1:\n",
    "        raise ValueError(\"Only 1D basis functions supported\")\n",
    "        \n",
    "    n_basis_functions = spline.control_points.shape[0]\n",
    "    queries = np.linspace(*spline.parametric_bounds, sample_rate)\n",
    "    basis, supports = spline.basis_and_support(queries)\n",
    "    basis_function_matrix = np.zeros((sample_rate, n_basis_functions))\n",
    "    np.put_along_axis(basis_function_matrix, supports, basis, axis=1)\n",
    "    \n",
    "    fig = plot(\n",
    "        queries,\n",
    "        basis_function_matrix[:,0],\n",
    "        ylim=(0.,1.01),\n",
    "        label=\"B0,\" + str(spline.degrees[0]),\n",
    "        title=\"Basis functions\", \n",
    "        c=0,\n",
    "    )\n",
    "    for i in range(n_basis_functions):\n",
    "        fig += plot(\n",
    "            queries,\n",
    "            basis_function_matrix[:,i],\n",
    "            ylim=(0.,1.01),\n",
    "            label=\"B\"+str(i) +\",\" + str(spline.degrees[0]),\n",
    "            c=i,\n",
    "        )\n",
    "        \n",
    "    fig.add_legend(\"top-center\", s=0.7)\n",
    "    if return_fig:\n",
    "        return fig\n",
    "    else:\n",
    "        fig.show()\n",
    "\n",
    "# nurbs line\n",
    "basis = plot_basis_functions(nurbs_line, return_fig=True)\n",
    "gus.show(basis, nurbs_line)\n",
    "\n",
    "refined_nurbs_line = nurbs_line.copy()\n",
    "refined_nurbs_line.elevate_degrees([0])\n",
    "refined_nurbs_line.insert_knots(0, [0.7])\n",
    "refined_basis = plot_basis_functions(refined_nurbs_line, return_fig=True)\n",
    "\n",
    "gus.show(\n",
    "    [\"Basis\", basis,],\n",
    "    nurbs_line,\n",
    "    [\"Refined Basis\", refined_basis],\n",
    "    refined_nurbs_line\n",
    ")"
   ]
  },
  {
   "cell_type": "markdown",
   "id": "52894bc6",
   "metadata": {},
   "source": [
    "### Derivatives\n",
    "Splinepy provides several functions to compute derivatives of basis functions and fields, both with respect to parametric, but also with respect to physical coordinates. \n",
    "\n",
    "Derivatives with respect to physical coordinates are directly available by their respective member functions."
   ]
  },
  {
   "cell_type": "code",
   "execution_count": null,
   "id": "bcf1ec57",
   "metadata": {},
   "outputs": [],
   "source": [
    "# Compute first derivative of the field at u=.5\n",
    "_ = bezier_line.derivative([[0.5]], [1]) \n",
    "# Computes second derivative of the field at u=.5\n",
    "_ = bezier_line.derivative([[0.5]], [2]) \n",
    "# Computes first derivative with respect to second parametric axis\n",
    "_ = bspline_cube.derivative([[0.2, .4, .3]], [0,1,0]) \n",
    "# Mixed derivatives\n",
    "_ = bspline_cube.derivative([[0.2, .4, .3]], [2,1,3]) # Computes B_{,uuvwww}"
   ]
  },
  {
   "cell_type": "markdown",
   "id": "88b17f24",
   "metadata": {},
   "source": [
    "If required, the jacobian can also be computed directly, returning a matrix for every query."
   ]
  },
  {
   "cell_type": "code",
   "execution_count": null,
   "id": "4df5cbb9",
   "metadata": {},
   "outputs": [],
   "source": [
    "# Compute jacobians\n",
    "jacs = bspline_cube.jacobian(np.random.rand(100,3))\n",
    "# Compute determinant of jacobians\n",
    "dets = np.linalg.det(jacs)"
   ]
  },
  {
   "cell_type": "markdown",
   "id": "445798c5",
   "metadata": {},
   "source": [
    "The same holds for basis function derivatives"
   ]
  },
  {
   "cell_type": "code",
   "execution_count": null,
   "id": "a990b691",
   "metadata": {},
   "outputs": [],
   "source": [
    "# Compute seond order derivative of line basis function at position .5\n",
    "bfd = bezier_line.basis_derivative([[.5]], [2])\n",
    "# Compute first order debrivative of basis function with respect to v\n",
    "bfd = bspline_cube.basis_derivative([[0.2, .4, .3]], [0,1,0])"
   ]
  },
  {
   "cell_type": "markdown",
   "id": "f2f2e62b",
   "metadata": {},
   "source": [
    "It is also possible to map the derivatives into physical space, using the provided basis function mapper. The mapper supports gradients, divergences, hessian and laplacians (where applicable)."
   ]
  },
  {
   "cell_type": "code",
   "execution_count": null,
   "id": "04fd3d14",
   "metadata": {},
   "outputs": [],
   "source": [
    "# Create a scalar field in 3d parametric space (e.g. a temperature field)\n",
    "field = sp.Bezier(degrees=[2,2,2],control_points=np.random.rand(27,1))\n",
    "# Set a geometry\n",
    "mapper = field.mapper(bspline_cube)\n",
    "# Compute some hessians and laplacians\n",
    "queries = np.random.rand(1000,3)\n",
    "results = mapper.basis_function_derivatives(queries, gradient=True, hessian=True, laplacian=True)\n",
    "# returns a dictionary with entries \"support\", \"gradient\", \"hessian\", \"laplacian\"\n",
    "\n",
    "# You can also compute field values in physical space this way\n",
    "results = mapper.field_derivatives(queries, gradient=True, divergence=False, hessian=True, laplacian=True, basis_function_values=True)\n",
    "# returns a dictionary with entries \"support\", \"gradient\", \"hessian\", \"laplacian\", \"basis_function_values\""
   ]
  },
  {
   "cell_type": "markdown",
   "id": "d5b03f75",
   "metadata": {},
   "source": [
    "You can also plot derivatives (or any data) on the spline with a call back function."
   ]
  },
  {
   "cell_type": "code",
   "execution_count": null,
   "id": "fbf5f626",
   "metadata": {},
   "outputs": [],
   "source": [
    "def sample_derivative(spline, resolutions=None, on=None):\n",
    "    \"\"\"callback to evaluate derivatives\"\"\"\n",
    "    if resolutions is not None:\n",
    "        q = gus.create.vertices.raster(\n",
    "            spline.parametric_bounds, resolutions\n",
    "        ).vertices\n",
    "        return spline.derivative(q, [1, 1])\n",
    "    elif on is not None:\n",
    "        return spline.derivative(on, [1, 1])\n",
    "\n",
    "# sampling points\n",
    "sample_points = gus.create.vertices.raster(\n",
    "    surface.parametric_bounds, [10, 10]\n",
    ").vertices\n",
    "\n",
    "# define spline data\n",
    "surface.spline_data[\"derivative\"] = sp.SplineDataAdaptor(surface, function=sample_derivative)\n",
    "surface.show_options.clear()\n",
    "\n",
    "# mark arrow data to show\n",
    "surface.show_options[\"arrow_data\"] = \"derivative\"\n",
    "surface.show_options[\"arrow_data_on\"] = sample_points\n",
    "\n",
    "surface.show()\n",
    "\n",
    "\n",
    "def sample_jacobian_det(spline, resolutions=None, on=None):\n",
    "    \"\"\"callback to evaluate jacobian determinants\"\"\"\n",
    "    if resolutions is not None:\n",
    "        q = gus.create.vertices.raster(\n",
    "            spline.parametric_bounds, resolutions\n",
    "        ).vertices\n",
    "        return np.linalg.det(spline.jacobian(q))\n",
    "    elif on is not None:\n",
    "        return np.linalg.det(spline.jacobian(on))\n",
    "\n",
    "# define spline data\n",
    "surface.spline_data[\"jacobian_det\"] = sp.SplineDataAdaptor(surface, function=sample_jacobian_det)\n",
    "surface.show_options.clear()\n",
    "\n",
    "# mark data name to show - data_name is for scalar data\n",
    "surface.show_options[\"lighting\"] = \"off\"\n",
    "surface.show_options[\"data_name\"] = \"jacobian_det\"\n",
    "surface.show_options[\"arrow_data_on\"] = sample_points\n",
    "surface.show_options[\"scalarbar\"] = True\n",
    "\n",
    "surface.show()"
   ]
  },
  {
   "cell_type": "markdown",
   "id": "61db93b4",
   "metadata": {},
   "source": [
    "## Proximity search\n",
    "\n",
    "Proximity search allows to find the closest point within the spline representation, given physical coordinate. "
   ]
  },
  {
   "cell_type": "code",
   "execution_count": null,
   "id": "cc5b7872",
   "metadata": {},
   "outputs": [],
   "source": [
    "closest_points = bspline_cube.proximities(np.random.rand(100,3))"
   ]
  },
  {
   "cell_type": "markdown",
   "id": "36a01212",
   "metadata": {},
   "source": [
    "If no suitable approximation can be identified (for example, if some of the points are outside the physical space) a warning is raised, and the best point is returned, if more information is required, use `return_verbose`-flag to trouble shoot. In some cases, it can also help to increase the number of initial samples, that are used as starting points for the local search."
   ]
  },
  {
   "cell_type": "code",
   "execution_count": null,
   "id": "39f4bd10",
   "metadata": {},
   "outputs": [],
   "source": [
    "# Raises warning\n",
    "closest_points = bspline_cube.proximities(np.random.rand(100,3))\n",
    "\n",
    "# Verbose information\n",
    "verbose_information = bspline_cube.proximities(np.random.rand(100,3), return_verbose=True)"
   ]
  },
  {
   "cell_type": "markdown",
   "id": "678dd9ca",
   "metadata": {},
   "source": [
    "## Bezier Manipulations\n",
    "Bezier type spline allow for some special operations for spline modification\n",
    "\n",
    "### Multiplication\n",
    "Multiplication between two splines is possible, as long as the dimensions of the physical space are compatible. Multiplication of two splines $A(t)$ and $B(t)$ results in a new spline $C$\n",
    "\n",
    "$ A(t) * B(t) = C(t) \\quad \\forall t$"
   ]
  },
  {
   "cell_type": "code",
   "execution_count": null,
   "id": "519fd357",
   "metadata": {},
   "outputs": [],
   "source": [
    "# Scalar Spline as factor\n",
    "scalar_spline = sp.Bezier(\n",
    "    degrees=[2],\n",
    "    control_points=[[1.],[2],[1]]\n",
    ")\n",
    "# Vector Spline as factor\n",
    "vector_spline = sp.Bezier(\n",
    "    degrees=[1],\n",
    "    control_points=[[0.,1.],[3.,0]]\n",
    ")\n",
    "# Product\n",
    "product = vector_spline * scalar_spline\n",
    "\n",
    "\n",
    "# Check results by evaluating at a random point\n",
    "eval_query = np.random.rand(10,1)\n",
    "assert np.allclose(\n",
    "    product.evaluate(eval_query), \n",
    "    (vector_spline.evaluate(eval_query)\n",
    "     * scalar_spline.evaluate(eval_query))\n",
    "    )"
   ]
  },
  {
   "cell_type": "markdown",
   "id": "d0b8d404",
   "metadata": {},
   "source": [
    "## Addition\n",
    "As for the Multiplication, Addition of two splines $A(t)$ and $B(t)$ results in a new spline $C$\n",
    "\n",
    "$ A(t) + B(t) = C(t) \\quad \\forall t$\n",
    "\n",
    "As long as the addition of the spline types is defined."
   ]
  },
  {
   "cell_type": "code",
   "execution_count": null,
   "id": "a10a6d97",
   "metadata": {},
   "outputs": [],
   "source": [
    "# Vector Spline as factor\n",
    "vector_spline = sp.Bezier(\n",
    "    degrees=[1],\n",
    "    control_points=[[0.,1.],[3.,0]]\n",
    ")\n",
    "\n",
    "# Create a second spline with different orders\n",
    "second_spline = vector_spline.copy()\n",
    "second_spline.elevate_degrees(0)\n",
    "\n",
    "# Sum\n",
    "sum_spline = vector_spline + second_spline\n",
    "\n",
    "# Check results by evuating at a random point\n",
    "eval_query = np.random.rand(10,1)\n",
    "assert np.allclose(\n",
    "    sum_spline.evaluate(eval_query), \n",
    "    (vector_spline.evaluate(eval_query)\n",
    "     + vector_spline.evaluate(eval_query))\n",
    "    )"
   ]
  },
  {
   "cell_type": "markdown",
   "id": "3d97a797",
   "metadata": {},
   "source": [
    "## Composition\n",
    "Composition is in the center of microstructure construction. The result of functional composition is a new spline fulfilling \n",
    "\n",
    "$ A \\circ B = A(B(t))= C(t) \\quad \\forall t$\n",
    "\n",
    "Here, the parametric dimension of the outer (or deformation function) must match the physical dimension of the inner function."
   ]
  },
  {
   "cell_type": "code",
   "execution_count": null,
   "id": "db6e31ef",
   "metadata": {},
   "outputs": [],
   "source": [
    "# Inner function (quarter circle)\n",
    "quarter_circle = sp.RationalBezier(\n",
    "    degrees=[2],\n",
    "    control_points=[[1,0],[1,1],[0,1]],\n",
    "    weights=[1,2**-.5,1]\n",
    ")\n",
    "\n",
    "# Outer Function (Rotated Rectangle)\n",
    "rectangle_surface = sp.Bezier(\n",
    "    degrees=[1,1],\n",
    "    control_points=[[.5,0],[1.,.5],[0.,.5],[.5,1.]]\n",
    ")\n",
    "\n",
    "# Product\n",
    "composition = rectangle_surface.compose(quarter_circle)\n",
    "\n",
    "# Test results\n",
    "eval_query = np.random.rand(10,1)\n",
    "assert np.allclose(\n",
    "    composition.evaluate(eval_query), \n",
    "    rectangle_surface.evaluate(\n",
    "        quarter_circle.evaluate(eval_query)\n",
    "    )\n",
    ")"
   ]
  },
  {
   "cell_type": "markdown",
   "id": "67006a91",
   "metadata": {},
   "source": [
    "Or into a 3D surface"
   ]
  },
  {
   "cell_type": "code",
   "execution_count": null,
   "id": "9d7c3ee0",
   "metadata": {},
   "outputs": [],
   "source": [
    "# Update Outer Function (Rotated Rectangle)\n",
    "rectangle_surface = sp.Bezier(\n",
    "    degrees=[1,1],\n",
    "    control_points=[[.5,0,0],[1.,.5,.2],[0.,.5,.2],[.5,1.,0]]\n",
    ")\n",
    "\n",
    "# Product\n",
    "composition = rectangle_surface.compose(quarter_circle)\n",
    "\n",
    "# Test results\n",
    "eval_query = np.random.rand(10,1)\n",
    "assert np.allclose(\n",
    "    composition.evaluate(eval_query), \n",
    "    rectangle_surface.evaluate(\n",
    "        quarter_circle.evaluate(eval_query)\n",
    "    )\n",
    ")"
   ]
  },
  {
   "cell_type": "markdown",
   "id": "a86a690f",
   "metadata": {},
   "source": [
    "## Microstructures\n",
    "Using the above techniques, it is possible to form microstructures. Here we define a microtile in a unit cube, which is then inserted into the parametric domain of the outer geometry (the so-called deformation function) element-wise."
   ]
  },
  {
   "cell_type": "code",
   "execution_count": null,
   "id": "afa7eacb",
   "metadata": {},
   "outputs": [],
   "source": [
    "microstructure = sp.microstructure.Microstructure()\n",
    "microstructure.deformation_function = sp.Bezier(\n",
    "    degrees=[2, 1],\n",
    "    control_points=[[0, 0], [1, 0], [2, -1], [-1, 1], [1, 1], [3, 2]],\n",
    ")\n",
    "microstructure.microtile = [\n",
    "    sp.Bezier(\n",
    "        degrees=[3], control_points=[[0, 0.5], [0.5, 1], [0.5, 0], [1, 0.5]]\n",
    "    ),\n",
    "    sp.Bezier(\n",
    "        degrees=[4],\n",
    "        control_points=[\n",
    "            [0.5, 0],\n",
    "            [0.75, 0.5],\n",
    "            [0.8, 0.8],\n",
    "            [0.25, 0.5],\n",
    "            [0.5, 1],\n",
    "        ],\n",
    "    ),\n",
    "]\n",
    "microstructure.tiling = [7, 5]\n",
    "microstructure.show(\n",
    "    control_points=False, title=\"2D Lattice Microstructure\", lighting=\"off\",\n",
    ")"
   ]
  },
  {
   "cell_type": "markdown",
   "id": "5a9d9cff",
   "metadata": {},
   "source": [
    "### Microtiles\n",
    "splinepy comes with numerous ready-to-use microtiles."
   ]
  },
  {
   "cell_type": "code",
   "execution_count": null,
   "id": "898c742d",
   "metadata": {},
   "outputs": [],
   "source": [
    "tile_names = [\n",
    "    'Armadillo', \n",
    "    'CrossTile2D', \n",
    "    'CrossTile3D', \n",
    "    'Cube3D', \n",
    "    'Cubevoid', \n",
    "    'DoubleLatticeTile', \n",
    "    'Ellipsvoid', \n",
    "    'InverseCrossTile3D', \n",
    "    'NutTile2D', \n",
    "    'NutTile3D', \n",
    "    'SnappyTile',\n",
    "]\n",
    "\n",
    "micro_tiles = []\n",
    "for tile_name in tile_names:\n",
    "    microtile_type = getattr(sp.microstructure.tiles, tile_name)\n",
    "    micro_tiles.append([microtile_type.__qualname__, microtile_type().create_tile()[0]])\n",
    "\n",
    "\n",
    "gus.show(\n",
    "    *micro_tiles,\n",
    "    resolutions=7,\n",
    "    control_points=False,\n",
    "    knots=True,\n",
    "    alpha=.5,\n",
    "    lighting=\"off\"\n",
    ")"
   ]
  }
 ],
 "metadata": {
  "kernelspec": {
   "display_name": "Python 3 (ipykernel)",
   "language": "python",
   "name": "python3"
  },
  "language_info": {
   "codemirror_mode": {
    "name": "ipython",
    "version": 3
   },
   "file_extension": ".py",
   "mimetype": "text/x-python",
   "name": "python",
   "nbconvert_exporter": "python",
   "pygments_lexer": "ipython3",
   "version": "3.10.12"
  }
 },
 "nbformat": 4,
 "nbformat_minor": 5
}
