{
 "cells": [
  {
   "cell_type": "markdown",
   "id": "64e09323",
   "metadata": {},
   "source": [
    "# Splinepy\n",
    "## The Library\n",
    "### Splinepy\n",
    "> Python N-dimensional Bezier, Rational Bezier, BSpline and NURBS library with C++ backend \n",
    "It provides all low-level functionality for splines, including\n",
    " - import / export for various formats, such as Irit, gismo, XML, iges, JSON and MFEM\n",
    " - Order Elevation\n",
    " - Evaluation\n",
    " - Knot Insertion (NURBS, BSplines)\n",
    " - Derivatives\n",
    " - Compositions of Bezier patches\n",
    " - Multiplication and Addition of Bezier-Extracted elements\n",
    " - Multipatch fields and boundary identification for pre-processing\n",
    " \n",
    "Splinepy depends on a modified version of `SplineLib`, `Napf`, `Uff` and `Bezman`. Here, `SplineLib` is used for NURBS and BSplines, `Bezman` handles all things Bezier. Further `scipy` is regarded as an optional dependency and is somtimes used if available for sparse matrices.\n",
    "\n",
    "### Other libraries\n",
    "If you are interested in exploring the C++ backend, we refer to:\n",
    "- [Splinelib](https://github.com/tataratat/splinelib)\n",
    "- [BezMan](https://github.com/tataratat/bezman)\n",
    "- [Napf](https://github.com/tataratat/napf)\n",
    "- [uff](https://github.com/tataratat/uff)\n",
    "\n",
    "In particular, we would like to interest you in checking out our splinepy-wrapper `gustaf`, that extends splinepy for plotting capabilities and facilitates the construction of spline-geometries using hands-on functions. You can find the newest version [here](https://github.com/tataratat/gustaf) of install it (together with splinepy) using:\n",
    "```\n",
    "pip install gustaf[all]\n",
    "```"
   ]
  },
  {
   "cell_type": "markdown",
   "id": "51cda7e2",
   "metadata": {},
   "source": [
    "## Getting Started\n",
    "### Basics\n"
   ]
  },
  {
   "cell_type": "code",
   "execution_count": null,
   "id": "sticky-launch",
   "metadata": {},
   "outputs": [],
   "source": [
    "import splinepy as sp\n",
    "import numpy as np"
   ]
  },
  {
   "cell_type": "markdown",
   "id": "1d515b81",
   "metadata": {},
   "source": [
    "All Spline-Types are constructed using (positional or) the following keyword arguments:\n",
    "- `degrees` (list)\n",
    "- `control_points` (list[list] oder `numpy` type)\n",
    "- `knot_vectors` (list[list])\n",
    "- `weights`(list of `numpy`-types)\n",
    "\n",
    "The keywords are used where applicable, i.e.:\n",
    "\n",
    "| | NURBS | BSpline | Bezier | Rational Bezier |\n",
    "| -: | :-: | :-: | :-: | :-: |\n",
    "| `degrees` | X | X | X | X |\n",
    "| `control_points` | X | X | X | X |\n",
    "| `knot_vectors` | X | X | - | - |\n",
    "| `weights` | X | - | - | X |\n",
    "\n",
    "Let's create some splines:"
   ]
  },
  {
   "cell_type": "code",
   "execution_count": null,
   "id": "expressed-toilet",
   "metadata": {},
   "outputs": [],
   "source": [
    "# Bezier types\n",
    "bezier_line = sp.Bezier(degrees=[1], control_points=[[0.0, 0.0], [2, 1]])\n",
    "bezier_surface = sp.Bezier(\n",
    "    degrees=[1, 1], control_points=[[0.0, 1.0], [2, 3], [0, 2], [2, 4]]\n",
    ")\n",
    "\n",
    "# BSpline\n",
    "bspline_cube = sp.BSpline(\n",
    "    degrees=[1, 1, 1],\n",
    "    control_points=[\n",
    "        [0, 0, 0],\n",
    "        [1, 0, 0],\n",
    "        [0, 1, 0],\n",
    "        [1, 1, 0],\n",
    "        [0, 0, 1],\n",
    "        [1, 0, 1],\n",
    "        [0, 1, 1],\n",
    "        [1, 1, 1],\n",
    "    ],\n",
    "    knot_vectors=[[0, 0, 1, 1], [0, 0, 1, 1], [0, 0, 1, 1]],\n",
    ")\n",
    "\n",
    "# NURBs\n",
    "nurbs_line = sp.NURBS(\n",
    "    degrees=[2],\n",
    "    knot_vectors=[[0, 0, 0, 0.5, 1, 1, 1]],\n",
    "    control_points=[[0.0, 1.0], [2, 3], [0, 2], [2, 4]],\n",
    "    weights=[1, 0.5, 0.8, 1],\n",
    ")"
   ]
  },
  {
   "cell_type": "markdown",
   "id": "1b15ce28",
   "metadata": {},
   "source": [
    "### Manipulation\n",
    "Basic spline refinement strategies are avaible, to modify the parametrization. These include knot insertion and degree elevation, as well as knot removal and degree reduction, where applicable."
   ]
  },
  {
   "cell_type": "markdown",
   "id": "f345c48f",
   "metadata": {},
   "source": [
    "#### Degree elevation"
   ]
  },
  {
   "cell_type": "code",
   "execution_count": null,
   "id": "b6cd9609",
   "metadata": {},
   "outputs": [],
   "source": [
    "# Elevate the degree along one specific parametric dimension\n",
    "bezier_line.elevate_degrees(0)\n",
    "\n",
    "# Or multiple times at once\n",
    "bspline_cube.elevate_degrees([0, 1, 2, 0])"
   ]
  },
  {
   "cell_type": "markdown",
   "id": "30095027",
   "metadata": {},
   "source": [
    "#### Knot insertion\n"
   ]
  },
  {
   "cell_type": "code",
   "execution_count": null,
   "id": "0eed0bd2",
   "metadata": {},
   "outputs": [],
   "source": [
    "bspline_cube.insert_knots(0, [0.5, 0.7])\n",
    "\n",
    "# Or multiple at once\n",
    "nurbs_line.insert_knots(0, np.random.rand(10))"
   ]
  },
  {
   "cell_type": "markdown",
   "id": "67118761",
   "metadata": {},
   "source": [
    "#### Knot Removal\n",
    "This operation is only available for BSplines and NURBS\n"
   ]
  },
  {
   "cell_type": "code",
   "execution_count": null,
   "id": "72daf05a",
   "metadata": {},
   "outputs": [],
   "source": [
    "bspline_cube.remove_knots(0, [0.5])\n",
    "print(bspline_cube.knot_vectors)"
   ]
  },
  {
   "cell_type": "markdown",
   "id": "bd503301",
   "metadata": {},
   "source": [
    "#### Degree reduction\n",
    "This operation is only available for BSplines and NURBS\n"
   ]
  },
  {
   "cell_type": "code",
   "execution_count": null,
   "id": "a9bc79dc",
   "metadata": {},
   "outputs": [],
   "source": [
    "print(\"Degrees before : \", bspline_cube.degrees)\n",
    "bspline_cube.reduce_degrees([1])\n",
    "print(\"Degrees after :  \", bspline_cube.degrees)"
   ]
  },
  {
   "cell_type": "markdown",
   "id": "c20cb75d",
   "metadata": {},
   "source": [
    "### Evaluation\n",
    "Evaluating splines at specific parametric locations"
   ]
  },
  {
   "cell_type": "code",
   "execution_count": null,
   "id": "6e90f125",
   "metadata": {},
   "outputs": [],
   "source": [
    "# Evaluate line\n",
    "line_points = bezier_line.evaluate([[0.5], [0.6]])\n",
    "\n",
    "# Or many queries at the same time given a numpy array\n",
    "bspline_cube_points = bspline_cube.evaluate(\n",
    "    np.random.rand(10000, 3), nthreads=8\n",
    ")"
   ]
  },
  {
   "cell_type": "markdown",
   "id": "659f69a7",
   "metadata": {},
   "source": [
    "### Basis Functions\n",
    "In order to access basis functions (e.g. for iga-type applications or fitting procedures), use `basis`, `support` or `basis_and_support`:"
   ]
  },
  {
   "cell_type": "code",
   "execution_count": null,
   "id": "b7319cf7",
   "metadata": {},
   "outputs": [],
   "source": [
    "queries = np.random.rand(10,1)\n",
    "basis = nurbs_line.basis(queries)\n",
    "support = nurbs_line.support(queries)\n",
    "basis_, support_ = nurbs_line.basis_and_support(queries)\n",
    "assert np.all(basis == basis_)\n",
    "assert np.all(support == support_)"
   ]
  },
  {
   "cell_type": "markdown",
   "id": "4ab41cad",
   "metadata": {},
   "source": [
    "You can also use these functions to fill a matrix representing the basis functions at specific positions"
   ]
  },
  {
   "cell_type": "code",
   "execution_count": null,
   "id": "56c2b90d",
   "metadata": {},
   "outputs": [],
   "source": [
    "# Create a matrix with basis function values\n",
    "matrix = np.zeros((queries.shape[0], nurbs_line.control_points.shape[0]))\n",
    "np.put_along_axis(matrix, support, basis, axis=1)\n",
    "# Use matrix to compute evaluations\n",
    "points = matrix @ nurbs_line.control_points\n",
    "# Here it makes sense to use sparse matrices to save memory and accelerate matrix multiplication\n",
    "assert np.allclose(points, nurbs_line.evaluate(queries))"
   ]
  },
  {
   "cell_type": "markdown",
   "id": "52894bc6",
   "metadata": {},
   "source": [
    "### Derivatives\n",
    "Splinepy provides several functions to compute derivatives of basis functions and fields, both with respect to parametric, but also with respect to physical coordinates. \n",
    "\n",
    "Derivatives with respect to physical coordinates are directly available by their respective member functions."
   ]
  },
  {
   "cell_type": "code",
   "execution_count": null,
   "id": "bcf1ec57",
   "metadata": {},
   "outputs": [],
   "source": [
    "# Compute first derivative of the field at u=.5\n",
    "_ = bezier_line.derivative([[0.5]], [1]) \n",
    "# Computes second derivative of the field at u=.5\n",
    "_ = bezier_line.derivative([[0.5]], [2]) \n",
    "# Computes first derivative with respect to second parametric axis\n",
    "_ = bspline_cube.derivative([[0.2, .4, .3]], [0,1,0]) \n",
    "# Mixed derivatives\n",
    "_ = bspline_cube.derivative([[0.2, .4, .3]], [2,1,3]) # Computes B_{,uuvwww}"
   ]
  },
  {
   "cell_type": "markdown",
   "id": "88b17f24",
   "metadata": {},
   "source": [
    "If required, the jacobian can also be computed directly, returning a matrix for every query."
   ]
  },
  {
   "cell_type": "code",
   "execution_count": null,
   "id": "4df5cbb9",
   "metadata": {},
   "outputs": [],
   "source": [
    "# Compute jacobians\n",
    "jacs = bspline_cube.jacobian(np.random.rand(100,3))\n",
    "# Compute determinant of jacobians\n",
    "dets = np.linalg.det(jacs)"
   ]
  },
  {
   "cell_type": "markdown",
   "id": "445798c5",
   "metadata": {},
   "source": [
    "The same holds for basis function derivatives"
   ]
  },
  {
   "cell_type": "code",
   "execution_count": null,
   "id": "a990b691",
   "metadata": {},
   "outputs": [],
   "source": [
    "# Compute seond order derivative of line basis function at position .5\n",
    "bfd = bezier_line.basis_derivative([[.5]], [2])\n",
    "# Compute first order debrivative of basis function with respect to v\n",
    "bfd = bspline_cube.basis_derivative([[0.2, .4, .3]], [0,1,0])"
   ]
  },
  {
   "cell_type": "markdown",
   "id": "f2f2e62b",
   "metadata": {},
   "source": [
    "It is also possible to map the derivatives into physical space, using the provided basis function mapper. The mapper supports gradients, divergences, hessian and laplacians (where applicable)."
   ]
  },
  {
   "cell_type": "code",
   "execution_count": null,
   "id": "04fd3d14",
   "metadata": {},
   "outputs": [],
   "source": [
    "# Create a scalar field in 3d parametric space (e.g. a temperature field)\n",
    "field = sp.Bezier(degrees=[2,2,2],control_points=np.random.rand(27,1))\n",
    "# Set a geometry\n",
    "mapper = field.mapper(bspline_cube)\n",
    "# Compute some hessians and laplacians\n",
    "queries = np.random.rand(1000,3)\n",
    "results = mapper.basis_function_derivatives(queries, gradient=True, hessian=True, laplacian=True)\n",
    "# returns a dictionary with entries \"support\", \"gradient\", \"hessian\", \"laplacian\"\n",
    "\n",
    "# You can also compute field values in physical space this way\n",
    "results = mapper.field_derivatives(queries, gradient=True, divergence=False, hessian=True, laplacian=True, basis_function_values=True)\n",
    "# returns a dictionary with entries \"support\", \"gradient\", \"hessian\", \"laplacian\", \"basis_function_values\""
   ]
  },
  {
   "cell_type": "markdown",
   "id": "61db93b4",
   "metadata": {},
   "source": [
    "## Proximity search\n",
    "\n",
    "Proximity search allows to find the closest point within the spline representation, given physical coordinate. "
   ]
  },
  {
   "cell_type": "code",
   "execution_count": null,
   "id": "cc5b7872",
   "metadata": {},
   "outputs": [],
   "source": [
    "closest_points = bspline_cube.proximities(np.random.rand(100,3))"
   ]
  },
  {
   "cell_type": "markdown",
   "id": "36a01212",
   "metadata": {},
   "source": [
    "If no suitable approximation can be identified (for example, if some of the points are outside the physical space) a warning is raised, and the best point is returned, if more information is required, use `return_verbose`-flag to trouble shoot. In some cases, it can also help to increase the number of initial samples, that are used as starting points for the local search."
   ]
  },
  {
   "cell_type": "code",
   "execution_count": null,
   "id": "39f4bd10",
   "metadata": {},
   "outputs": [],
   "source": [
    "# Raises warning\n",
    "closest_points = bspline_cube.proximities(np.random.rand(100,3) * 3)\n",
    "\n",
    "# Verbose information\n",
    "verbose_information = bspline_cube.proximities(np.random.rand(100,3) * 3, return_verbose=True)"
   ]
  },
  {
   "cell_type": "markdown",
   "id": "678dd9ca",
   "metadata": {},
   "source": [
    "## Bezier Manipulations\n",
    "Bezier type spline allow for some special operations for spline modification\n",
    "\n",
    "### Multiplication\n",
    "Multiplication between two splines is possible, as long as the dimensions of the physical space are compatible. Multiplication of two splines $A(t)$ and $B(t)$ results in a new spline $C$\n",
    "\n",
    "$ A(t) * B(t) = C(t) \\quad \\forall t$"
   ]
  },
  {
   "cell_type": "code",
   "execution_count": null,
   "id": "519fd357",
   "metadata": {},
   "outputs": [],
   "source": [
    "# Scalar Spline as factor\n",
    "scalar_spline = sp.Bezier(\n",
    "    degrees=[2],\n",
    "    control_points=[[1.],[2],[1]]\n",
    ")\n",
    "# Vector Spline as factor\n",
    "vector_spline = sp.Bezier(\n",
    "    degrees=[1],\n",
    "    control_points=[[0.,1.],[3.,0]]\n",
    ")\n",
    "# Product\n",
    "product = vector_spline * scalar_spline\n",
    "\n",
    "\n",
    "# Check results by evaluating at a random point\n",
    "eval_query = np.random.rand(10,1)\n",
    "assert np.allclose(\n",
    "    product.evaluate(eval_query), \n",
    "    (vector_spline.evaluate(eval_query)\n",
    "     * scalar_spline.evaluate(eval_query))\n",
    "    )"
   ]
  },
  {
   "cell_type": "markdown",
   "id": "d0b8d404",
   "metadata": {},
   "source": [
    "## Addition\n",
    "As for the Multiplication, Addition of two splines $A(t)$ and $B(t)$ results in a new spline $C$\n",
    "\n",
    "$ A(t) + B(t) = C(t) \\quad \\forall t$\n",
    "\n",
    "As long as the addition of the spline types is defined."
   ]
  },
  {
   "cell_type": "code",
   "execution_count": null,
   "id": "a10a6d97",
   "metadata": {},
   "outputs": [],
   "source": [
    "# Vector Spline as factor\n",
    "vector_spline = sp.Bezier(\n",
    "    degrees=[1],\n",
    "    control_points=[[0.,1.],[3.,0]]\n",
    ")\n",
    "\n",
    "# Create a second spline with different orders\n",
    "second_spline = vector_spline.copy()\n",
    "second_spline.elevate_degree(0)\n",
    "\n",
    "# Sum\n",
    "sum_spline = vector_spline + second_spline\n",
    "\n",
    "# Check results by evuating at a random point\n",
    "eval_query = np.random.rand(10,1)\n",
    "assert np.allclose(\n",
    "    sum_spline.evaluate(eval_query), \n",
    "    (vector_spline.evaluate(eval_query)\n",
    "     + vector_spline.evaluate(eval_query))\n",
    "    )"
   ]
  },
  {
   "cell_type": "markdown",
   "id": "3d97a797",
   "metadata": {},
   "source": [
    "## Composition\n",
    "Composition is in the center of microstructure construction. The result of functional composition is a new spline fulfilling \n",
    "\n",
    "$ A \\circ B = A(B(t))= C(t) \\quad \\forall t$\n",
    "\n",
    "Here, the parametric dimension of the outer (or deformation function) must match the physical dimension of the inner function."
   ]
  },
  {
   "cell_type": "code",
   "execution_count": null,
   "id": "db6e31ef",
   "metadata": {},
   "outputs": [],
   "source": [
    "# Inner function (quarter circle)\n",
    "quarter_circle = sp.RationalBezier(\n",
    "    degrees=[2],\n",
    "    control_points=[[1,0],[1,1],[0,1]],\n",
    "    weights=[1,2**-.5,1]\n",
    ")\n",
    "\n",
    "# Outer Function (Rotated Rectangle)\n",
    "rectangle_surface = sp.Bezier(\n",
    "    degrees=[1,1],\n",
    "    control_points=[[.5,0],[1.,.5],[0.,.5],[.5,1.]]\n",
    ")\n",
    "\n",
    "# Product\n",
    "composition = rectangle_surface.compose(quarter_circle)\n",
    "\n",
    "# Test results\n",
    "eval_query = np.random.rand(10,1)\n",
    "assert np.allclose(\n",
    "    composition.evaluate(eval_query), \n",
    "    rectangle_surface.evaluate(\n",
    "        quarter_circle.evaluate(eval_query)\n",
    "    )\n",
    ")"
   ]
  },
  {
   "cell_type": "markdown",
   "id": "67006a91",
   "metadata": {},
   "source": [
    "Or into a 3D surface"
   ]
  },
  {
   "cell_type": "code",
   "execution_count": null,
   "id": "9d7c3ee0",
   "metadata": {},
   "outputs": [],
   "source": [
    "# Update Outer Function (Rotated Rectangle)\n",
    "rectangle_surface = sp.Bezier(\n",
    "    degrees=[1,1],\n",
    "    control_points=[[.5,0,0],[1.,.5,.2],[0.,.5,.2],[.5,1.,0]]\n",
    ")\n",
    "\n",
    "# Product\n",
    "composition = rectangle_surface.compose(quarter_circle)\n",
    "\n",
    "# Test results\n",
    "eval_query = np.random.rand(10,1)\n",
    "assert np.allclose(\n",
    "    composition.evaluate(eval_query), \n",
    "    rectangle_surface.evaluate(\n",
    "        quarter_circle.evaluate(eval_query)\n",
    "    )\n",
    ")"
   ]
  }
 ],
 "metadata": {
  "kernelspec": {
   "display_name": "Python 3 (ipykernel)",
   "language": "python",
   "name": "python3"
  },
  "language_info": {
   "codemirror_mode": {
    "name": "ipython",
    "version": 3
   },
   "file_extension": ".py",
   "mimetype": "text/x-python",
   "name": "python",
   "nbconvert_exporter": "python",
   "pygments_lexer": "ipython3",
   "version": "3.9.16"
  }
 },
 "nbformat": 4,
 "nbformat_minor": 5
}
